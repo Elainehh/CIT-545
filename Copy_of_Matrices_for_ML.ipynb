{
  "nbformat": 4,
  "nbformat_minor": 0,
  "metadata": {
    "colab": {
      "provenance": [],
      "toc_visible": true,
      "include_colab_link": true
    },
    "kernelspec": {
      "name": "python3",
      "display_name": "Python 3"
    }
  },
  "cells": [
    {
      "cell_type": "markdown",
      "metadata": {
        "id": "view-in-github",
        "colab_type": "text"
      },
      "source": [
        "<a href=\"https://colab.research.google.com/github/Elainehh/CIT-545/blob/main/Copy_of_Matrices_for_ML.ipynb\" target=\"_parent\"><img src=\"https://colab.research.google.com/assets/colab-badge.svg\" alt=\"Open In Colab\"/></a>"
      ]
    },
    {
      "cell_type": "markdown",
      "metadata": {
        "id": "BJsrTjueHRPH"
      },
      "source": [
        "# Machine Learning: Representing Data\n",
        "\n",
        "As we round out our discussion of representing data, it's important to consider not just dataframes but alternatives.\n",
        "\n",
        "As we gear up for machine learning in the second half of the semester -- we should note that we will be using *matrices* and *arrays* for most machine learning algorithm.\n",
        "\n",
        "What's the difference between a matrix and an array?  For our purposes, a matrix is a mathematical structure with a series of well-defined operators (matrix multiply, determinant, inverse, etc.).  An array is a data structure, which can be used to encode a matrix.\n",
        "\n",
        "This notebook provides a review of some of the basics."
      ]
    },
    {
      "cell_type": "markdown",
      "metadata": {
        "id": "pYvn19vEHuie"
      },
      "source": [
        "\n",
        "## 1.1 Basic Review\n",
        "\n",
        "To this point, we've used **dataframes** to capture data.  Dataframes allow for many rows, each containing named fields with heterogeneous types (string, Python object, image, etc.).  Of course, we assume that each field generally has a value (recall how we did *data cleaning* for cases where values were missing).\n",
        "\n",
        "For machine learning, we'll typically want to use **arrays** (matrices) to represent data.  Recall that arrays have **homogeneous** types, i.e., all values are of the same type.  Typically we will use either integer or floating-point values for the array.\n",
        "\n",
        "We expect you to be generally familiar with Numpy arrays, but we will provide a brief refresher of a few key points...\n",
        "\n",
        "Given data in a dataframe, we will typically convert it into a matrix as follows:\n",
        "\n",
        "1. We will convert each dataframe row (*instance*) to a matrix row.\n",
        "1. We will drop columns that contain data we don't expect to be useful as **features** (i.e., that isn't predictive for the machine learning output).\n",
        "1. We will convert the remaining columns to one or more columns in the matrix.\n",
        "\n",
        "Often, step #3 involves **feature extraction** (perhaps extracting a particular piece of data out of a dataframe field), normalization, or encoding."
      ]
    },
    {
      "cell_type": "markdown",
      "metadata": {
        "id": "ekTh5PldPMjb"
      },
      "source": [
        "## 1.1 Numpy Basics\n",
        "\n",
        "Numpy is the set of array libraries that come with Python, analogous to Pandas for dataframes, with a number of predefined operators.\n",
        "\n",
        "In fact you'll see that notions like filtering and projection are implemented for Numpy arrays in a very similar way to Pandas.\n",
        "\n",
        "*For those familiar with other programming languages: while Pandas borrows many ideas from the R language, Numpy borrows many ideas from Matlab.*"
      ]
    },
    {
      "cell_type": "code",
      "metadata": {
        "id": "zUGPfIOFHOVx",
        "outputId": "0f5e0fa6-6249-4527-a1bd-1e2f1ff63b93",
        "colab": {
          "base_uri": "https://localhost:8080/",
          "height": 34
        }
      },
      "source": [
        "# Basics of arrays: Numpy\n",
        "\n",
        "import numpy as np\n",
        "\n",
        "# We start with a simple array, initialized with random values\n",
        "\n",
        "arr = np.ndarray((4,2))\n",
        "\n",
        "# Show dimensions\n",
        "arr.shape\n"
      ],
      "execution_count": null,
      "outputs": [
        {
          "output_type": "execute_result",
          "data": {
            "text/plain": [
              "(4, 2)"
            ]
          },
          "metadata": {
            "tags": []
          },
          "execution_count": 1
        }
      ]
    },
    {
      "cell_type": "code",
      "metadata": {
        "id": "ULQ4D9xIE2Cf",
        "outputId": "9e9e0616-cb6f-4e63-ea3f-f63738fe2e65",
        "colab": {
          "base_uri": "https://localhost:8080/",
          "height": 85
        }
      },
      "source": [
        "arr"
      ],
      "execution_count": null,
      "outputs": [
        {
          "output_type": "execute_result",
          "data": {
            "text/plain": [
              "array([[2.61130690e-316, 1.58101007e-322],\n",
              "       [2.12199579e-314, 8.82664251e+169],\n",
              "       [1.20098376e-071, 1.39727473e-075],\n",
              "       [4.28263859e-037, 1.33511316e-306]])"
            ]
          },
          "metadata": {
            "tags": []
          },
          "execution_count": 2
        }
      ]
    },
    {
      "cell_type": "code",
      "metadata": {
        "id": "5a5R0u--Enuf",
        "outputId": "b156e990-b7ad-4707-d540-49fd61112f04",
        "colab": {
          "base_uri": "https://localhost:8080/",
          "height": 85
        }
      },
      "source": [
        "# We can also initialize with zeros or ones...\n",
        "arr2 = np.zeros((4,2))\n",
        "\n",
        "arr2"
      ],
      "execution_count": null,
      "outputs": [
        {
          "output_type": "execute_result",
          "data": {
            "text/plain": [
              "array([[0., 0.],\n",
              "       [0., 0.],\n",
              "       [0., 0.],\n",
              "       [0., 0.]])"
            ]
          },
          "metadata": {
            "tags": []
          },
          "execution_count": 3
        }
      ]
    },
    {
      "cell_type": "markdown",
      "metadata": {
        "id": "BTHhjco-PJen"
      },
      "source": [
        "## 1.2 Encoding Categorical Data\n",
        "\n",
        "While arrays are integer-valued, sometimes we need to start with DataFrame data, which may be **categorical**.  For instance, we may have cities and states from addresses, and perhaps our machine learning algorithm is supposed to predict population from this information.\n",
        "\n",
        "How do we go from these values  to numbers?"
      ]
    },
    {
      "cell_type": "code",
      "metadata": {
        "id": "s5PC-HWhPyI-",
        "outputId": "08da86d3-27d2-4335-d151-ccca8512b2ff",
        "colab": {
          "base_uri": "https://localhost:8080/",
          "height": 266
        }
      },
      "source": [
        "# Here's our sample data\n",
        "\n",
        "import pandas as pd\n",
        "\n",
        "# Imagine this simple example were loaded from some larger\n",
        "# CSV file or from the web.\n",
        "addresses_df = pd.DataFrame([{'city': 'New York', 'state': 'NY'},\\\n",
        "                             {'city': 'Los Angeles', 'state': 'CA'},\\\n",
        "                             {'city': 'Chicago', 'state': 'IL'},\\\n",
        "                             {'city': 'Houston', 'state': 'TX'},\\\n",
        "                             {'city': 'Phoenix', 'state': 'AZ'}, \\\n",
        "                             {'city': 'Philadelphia', 'state': 'PA'}, \\\n",
        "                             {'city': 'San Antonio', 'state': 'TX'}])\n",
        "\n",
        "addresses_df"
      ],
      "execution_count": null,
      "outputs": [
        {
          "output_type": "execute_result",
          "data": {
            "text/html": [
              "<div>\n",
              "<style scoped>\n",
              "    .dataframe tbody tr th:only-of-type {\n",
              "        vertical-align: middle;\n",
              "    }\n",
              "\n",
              "    .dataframe tbody tr th {\n",
              "        vertical-align: top;\n",
              "    }\n",
              "\n",
              "    .dataframe thead th {\n",
              "        text-align: right;\n",
              "    }\n",
              "</style>\n",
              "<table border=\"1\" class=\"dataframe\">\n",
              "  <thead>\n",
              "    <tr style=\"text-align: right;\">\n",
              "      <th></th>\n",
              "      <th>city</th>\n",
              "      <th>state</th>\n",
              "    </tr>\n",
              "  </thead>\n",
              "  <tbody>\n",
              "    <tr>\n",
              "      <th>0</th>\n",
              "      <td>New York</td>\n",
              "      <td>NY</td>\n",
              "    </tr>\n",
              "    <tr>\n",
              "      <th>1</th>\n",
              "      <td>Los Angeles</td>\n",
              "      <td>CA</td>\n",
              "    </tr>\n",
              "    <tr>\n",
              "      <th>2</th>\n",
              "      <td>Chicago</td>\n",
              "      <td>IL</td>\n",
              "    </tr>\n",
              "    <tr>\n",
              "      <th>3</th>\n",
              "      <td>Houston</td>\n",
              "      <td>TX</td>\n",
              "    </tr>\n",
              "    <tr>\n",
              "      <th>4</th>\n",
              "      <td>Phoenix</td>\n",
              "      <td>AZ</td>\n",
              "    </tr>\n",
              "    <tr>\n",
              "      <th>5</th>\n",
              "      <td>Philadelphia</td>\n",
              "      <td>PA</td>\n",
              "    </tr>\n",
              "    <tr>\n",
              "      <th>6</th>\n",
              "      <td>San Antonio</td>\n",
              "      <td>TX</td>\n",
              "    </tr>\n",
              "  </tbody>\n",
              "</table>\n",
              "</div>"
            ],
            "text/plain": [
              "           city state\n",
              "0      New York    NY\n",
              "1   Los Angeles    CA\n",
              "2       Chicago    IL\n",
              "3       Houston    TX\n",
              "4       Phoenix    AZ\n",
              "5  Philadelphia    PA\n",
              "6   San Antonio    TX"
            ]
          },
          "metadata": {
            "tags": []
          },
          "execution_count": 3
        }
      ]
    },
    {
      "cell_type": "markdown",
      "metadata": {
        "id": "mkYOuDGCP7aA"
      },
      "source": [
        "Suppose we want to turn this into machine learning features!  Let's focus on  `state`.  This is categorical and string-valued, so we may need to *one-hot encode* it.  Each unique string will receive its own column, and the column will be set to `0` if the value isn't present, or `1` if it is.  Only one column will be set for each row, hence \"one-hot\".\n",
        "\n",
        "Doing this manually is both painful **and** \"brittle\" in that any new data values might require you to manually change the schema.\n",
        "\n",
        "Fortunately we can automate.\n",
        "\n",
        "Pandas' `get_dummies` function will take a DataFrame or Series, and produce a one-hot-encoded DataFrame useful for machine learning."
      ]
    },
    {
      "cell_type": "code",
      "metadata": {
        "id": "0rJAXwoSQIYj",
        "outputId": "8a145f59-8e0b-45b9-fa66-69781c5307b7",
        "colab": {
          "base_uri": "https://localhost:8080/",
          "height": 266
        }
      },
      "source": [
        "# Create a Pandas dataframe with Boolean values for matches to each categorical\n",
        "# value. Observe this is a sparse bit-vector (the values are Booleans or bits,\n",
        "# there is only 1 set bit in each row).\n",
        "pd.get_dummies(addresses_df['state'])"
      ],
      "execution_count": null,
      "outputs": [
        {
          "output_type": "execute_result",
          "data": {
            "text/html": [
              "<div>\n",
              "<style scoped>\n",
              "    .dataframe tbody tr th:only-of-type {\n",
              "        vertical-align: middle;\n",
              "    }\n",
              "\n",
              "    .dataframe tbody tr th {\n",
              "        vertical-align: top;\n",
              "    }\n",
              "\n",
              "    .dataframe thead th {\n",
              "        text-align: right;\n",
              "    }\n",
              "</style>\n",
              "<table border=\"1\" class=\"dataframe\">\n",
              "  <thead>\n",
              "    <tr style=\"text-align: right;\">\n",
              "      <th></th>\n",
              "      <th>AZ</th>\n",
              "      <th>CA</th>\n",
              "      <th>IL</th>\n",
              "      <th>NY</th>\n",
              "      <th>PA</th>\n",
              "      <th>TX</th>\n",
              "    </tr>\n",
              "  </thead>\n",
              "  <tbody>\n",
              "    <tr>\n",
              "      <th>0</th>\n",
              "      <td>0</td>\n",
              "      <td>0</td>\n",
              "      <td>0</td>\n",
              "      <td>1</td>\n",
              "      <td>0</td>\n",
              "      <td>0</td>\n",
              "    </tr>\n",
              "    <tr>\n",
              "      <th>1</th>\n",
              "      <td>0</td>\n",
              "      <td>1</td>\n",
              "      <td>0</td>\n",
              "      <td>0</td>\n",
              "      <td>0</td>\n",
              "      <td>0</td>\n",
              "    </tr>\n",
              "    <tr>\n",
              "      <th>2</th>\n",
              "      <td>0</td>\n",
              "      <td>0</td>\n",
              "      <td>1</td>\n",
              "      <td>0</td>\n",
              "      <td>0</td>\n",
              "      <td>0</td>\n",
              "    </tr>\n",
              "    <tr>\n",
              "      <th>3</th>\n",
              "      <td>0</td>\n",
              "      <td>0</td>\n",
              "      <td>0</td>\n",
              "      <td>0</td>\n",
              "      <td>0</td>\n",
              "      <td>1</td>\n",
              "    </tr>\n",
              "    <tr>\n",
              "      <th>4</th>\n",
              "      <td>1</td>\n",
              "      <td>0</td>\n",
              "      <td>0</td>\n",
              "      <td>0</td>\n",
              "      <td>0</td>\n",
              "      <td>0</td>\n",
              "    </tr>\n",
              "    <tr>\n",
              "      <th>5</th>\n",
              "      <td>0</td>\n",
              "      <td>0</td>\n",
              "      <td>0</td>\n",
              "      <td>0</td>\n",
              "      <td>1</td>\n",
              "      <td>0</td>\n",
              "    </tr>\n",
              "    <tr>\n",
              "      <th>6</th>\n",
              "      <td>0</td>\n",
              "      <td>0</td>\n",
              "      <td>0</td>\n",
              "      <td>0</td>\n",
              "      <td>0</td>\n",
              "      <td>1</td>\n",
              "    </tr>\n",
              "  </tbody>\n",
              "</table>\n",
              "</div>"
            ],
            "text/plain": [
              "   AZ  CA  IL  NY  PA  TX\n",
              "0   0   0   0   1   0   0\n",
              "1   0   1   0   0   0   0\n",
              "2   0   0   1   0   0   0\n",
              "3   0   0   0   0   0   1\n",
              "4   1   0   0   0   0   0\n",
              "5   0   0   0   0   1   0\n",
              "6   0   0   0   0   0   1"
            ]
          },
          "metadata": {
            "tags": []
          },
          "execution_count": 4
        }
      ]
    },
    {
      "cell_type": "code",
      "metadata": {
        "id": "AM1SRoLTSaKy",
        "outputId": "a1efafe7-4eac-487c-ab8f-3d5d62c25580",
        "colab": {
          "base_uri": "https://localhost:8080/",
          "height": 136
        }
      },
      "source": [
        "# The above was still a dataframe.  If we really want an array...\n",
        "pd.get_dummies(addresses_df['state']).to_numpy()"
      ],
      "execution_count": null,
      "outputs": [
        {
          "output_type": "execute_result",
          "data": {
            "text/plain": [
              "array([[0, 0, 0, 1, 0, 0],\n",
              "       [0, 1, 0, 0, 0, 0],\n",
              "       [0, 0, 1, 0, 0, 0],\n",
              "       [0, 0, 0, 0, 0, 1],\n",
              "       [1, 0, 0, 0, 0, 0],\n",
              "       [0, 0, 0, 0, 1, 0],\n",
              "       [0, 0, 0, 0, 0, 1]], dtype=uint8)"
            ]
          },
          "metadata": {
            "tags": []
          },
          "execution_count": 5
        }
      ]
    },
    {
      "cell_type": "markdown",
      "metadata": {
        "id": "B6WuyzYHe1xq"
      },
      "source": [
        "For many kinds of machine learning, each **row** represents an **instance** and its features.  It also has a **class**, which is what we ultimately want to learn to predict.\n",
        "\n",
        "For training a machine learning model, we will provide the input features in a matrix $X$, and we'll put the classes in a separate vector $y$.\n",
        "\n",
        "Let's see an example of how this works."
      ]
    },
    {
      "cell_type": "code",
      "metadata": {
        "id": "pOLiJOBNdsjC",
        "outputId": "9474bf56-b721-4c0b-ae5e-28d81699571c",
        "colab": {
          "base_uri": "https://localhost:8080/",
          "height": 136
        }
      },
      "source": [
        "# A more realistic use case of slicing...  We often start with training\n",
        "# data that has *labels*, i.e., in- or out-of-class\n",
        "\n",
        "# Suppose we wanted addresses in states that have the letter 'A' in them...\n",
        "addresses_df['has_a'] = addresses_df['state'].apply(lambda x: 'A' in x)\n",
        "addresses_df\n",
        "\n",
        "data = pd.get_dummies(addresses_df['state'])\n",
        "data['class'] = addresses_df['has_a']\n",
        "\n",
        "# This is what the training set might look like\n",
        "# Note the last column is the label (it's Boolean for in-the-class or not)\n",
        "data = data.to_numpy()\n",
        "data"
      ],
      "execution_count": null,
      "outputs": [
        {
          "output_type": "execute_result",
          "data": {
            "text/plain": [
              "array([[0, 0, 0, 1, 0, 0, False],\n",
              "       [0, 1, 0, 0, 0, 0, True],\n",
              "       [0, 0, 1, 0, 0, 0, False],\n",
              "       [0, 0, 0, 0, 0, 1, False],\n",
              "       [1, 0, 0, 0, 0, 0, True],\n",
              "       [0, 0, 0, 0, 1, 0, True],\n",
              "       [0, 0, 0, 0, 0, 1, False]], dtype=object)"
            ]
          },
          "metadata": {
            "tags": []
          },
          "execution_count": 6
        }
      ]
    },
    {
      "cell_type": "markdown",
      "metadata": {
        "id": "OcnPWLZFfRLL"
      },
      "source": [
        "We'll often break this up, which is easy to do by slicing the array.\n",
        "\n",
        "For each dimension, we can specify a \"slice\" like $a$:$b$ where we keep index positions $a$ through $b$ (non-inclusive on $b$).\n",
        "\n",
        "A blank `:` keeps everything.  A negative value for $b$ subtracts $b$ from the last index position of the array, i.e., `-1` will be 1 fewer than the size."
      ]
    },
    {
      "cell_type": "code",
      "metadata": {
        "id": "V_X8UeXOeoZX",
        "outputId": "00b9f4f1-52d2-419b-c66c-9fe0a978af20",
        "colab": {
          "base_uri": "https://localhost:8080/",
          "height": 187
        }
      },
      "source": [
        "# All rows, last column\n",
        "y = data[:,-1]\n",
        "# All rows, all but last column\n",
        "X = data[:,0:-1]\n",
        "\n",
        "print('Labels:')\n",
        "print(y)\n",
        "\n",
        "print('Training data:')\n",
        "print(X)"
      ],
      "execution_count": null,
      "outputs": [
        {
          "output_type": "stream",
          "text": [
            "Labels:\n",
            "[False True False False True True False]\n",
            "Training data:\n",
            "[[0 0 0 1 0 0]\n",
            " [0 1 0 0 0 0]\n",
            " [0 0 1 0 0 0]\n",
            " [0 0 0 0 0 1]\n",
            " [1 0 0 0 0 0]\n",
            " [0 0 0 0 1 0]\n",
            " [0 0 0 0 0 1]]\n"
          ],
          "name": "stdout"
        }
      ]
    },
    {
      "cell_type": "markdown",
      "metadata": {
        "id": "UueRwtL7R6Pt"
      },
      "source": [
        "## 1.3 Slicing Parts of an Array"
      ]
    },
    {
      "cell_type": "code",
      "metadata": {
        "id": "0YojU_JGExhr",
        "outputId": "50899386-966d-4a00-887f-1a1b4877f86d",
        "colab": {
          "base_uri": "https://localhost:8080/",
          "height": 34
        }
      },
      "source": [
        "# Slicing gives a subset of an array\n",
        "\n",
        "# In each dimension you can give a left:right\n",
        "# range. Ranges are left-inclusive and right exclusive\n",
        "arr[1:3,1]"
      ],
      "execution_count": null,
      "outputs": [
        {
          "output_type": "execute_result",
          "data": {
            "text/plain": [
              "array([8.82664251e+169, 1.39727473e-075])"
            ]
          },
          "metadata": {
            "tags": []
          },
          "execution_count": 11
        }
      ]
    },
    {
      "cell_type": "code",
      "metadata": {
        "id": "tvPh_MqeFRbH",
        "outputId": "b1c3cdbf-7bbd-4d7d-8397-728a35df2878",
        "colab": {
          "base_uri": "https://localhost:8080/",
          "height": 34
        }
      },
      "source": [
        "# Negative numbers cut from the end\n",
        "arr[-2,1:3]"
      ],
      "execution_count": null,
      "outputs": [
        {
          "output_type": "execute_result",
          "data": {
            "text/plain": [
              "array([1.71174922e-52])"
            ]
          },
          "metadata": {
            "tags": []
          },
          "execution_count": 10
        }
      ]
    },
    {
      "cell_type": "markdown",
      "metadata": {
        "id": "IacJSZvPgawr"
      },
      "source": [
        "## 1.4 Reshaping an Array\n",
        "\n",
        "Sometimes you'll want to keep the data in an array, but change the number of dimensions.\n",
        "\n",
        "A common use case for this is taking an image (like these Pandas!):\n",
        "![Pandas](https://hips.hearstapps.com/wdy.h-cdn.co/assets/16/05/980x635/gallery-1454612525-baby-pandas.jpg?resize=768:*)\n",
        "\n",
        "which is 2 or 3 dimensions, and converting it to a 1D row in a matrix so each pixel value is a feature.\n",
        "\n",
        "Let's start with the simple example above.\n"
      ]
    },
    {
      "cell_type": "code",
      "metadata": {
        "id": "8B5FoCeGn3NT",
        "outputId": "5774c1e3-dcd3-455c-8615-92ef6673137e",
        "colab": {
          "base_uri": "https://localhost:8080/",
          "height": 51
        }
      },
      "source": [
        "import numpy as np\n",
        "\n",
        "arr = np.ndarray((2,3), dtype=int)\n",
        "\n",
        "arr[0] = [1,2,3]\n",
        "arr[1] = [4,5,6]\n",
        "\n",
        "arr"
      ],
      "execution_count": null,
      "outputs": [
        {
          "output_type": "execute_result",
          "data": {
            "text/plain": [
              "array([[1, 2, 3],\n",
              "       [4, 5, 6]])"
            ]
          },
          "metadata": {
            "tags": []
          },
          "execution_count": 23
        }
      ]
    },
    {
      "cell_type": "code",
      "metadata": {
        "id": "slf2M0rnha9s",
        "outputId": "cfbf96ac-c486-496d-b86f-bb4944a4ddb1",
        "colab": {
          "base_uri": "https://localhost:8080/",
          "height": 34
        }
      },
      "source": [
        "# Convert to 1D:\n",
        "\n",
        "arr.reshape(6)"
      ],
      "execution_count": null,
      "outputs": [
        {
          "output_type": "execute_result",
          "data": {
            "text/plain": [
              "array([ 8,  9, 10, 12, 13, 14])"
            ]
          },
          "metadata": {
            "tags": []
          },
          "execution_count": 19
        }
      ]
    },
    {
      "cell_type": "code",
      "metadata": {
        "id": "x_e3_YlDhmu9",
        "outputId": "d0f8d1de-98f9-43d7-d2cf-101905fbe0a7",
        "colab": {
          "base_uri": "https://localhost:8080/",
          "height": 68
        }
      },
      "source": [
        "# Convert 2x3 to 3x2:\n",
        "\n",
        "arr.reshape((3,2))"
      ],
      "execution_count": null,
      "outputs": [
        {
          "output_type": "execute_result",
          "data": {
            "text/plain": [
              "array([[ 8,  9],\n",
              "       [10, 12],\n",
              "       [13, 14]])"
            ]
          },
          "metadata": {
            "tags": []
          },
          "execution_count": 20
        }
      ]
    },
    {
      "cell_type": "code",
      "metadata": {
        "id": "jd7kxlp1hsbG",
        "outputId": "72703d34-d49b-4855-efe1-b93a15af7810",
        "colab": {
          "base_uri": "https://localhost:8080/",
          "height": 68
        }
      },
      "source": [
        "# Numpy can calculate the last\n",
        "# value for you if you put in a -1\n",
        "\n",
        "arr.reshape((3,-1))"
      ],
      "execution_count": null,
      "outputs": [
        {
          "output_type": "execute_result",
          "data": {
            "text/plain": [
              "array([[ 8,  9],\n",
              "       [10, 12],\n",
              "       [13, 14]])"
            ]
          },
          "metadata": {
            "tags": []
          },
          "execution_count": 22
        }
      ]
    },
    {
      "cell_type": "code",
      "metadata": {
        "id": "--RzKOR-hwjp"
      },
      "source": [],
      "execution_count": null,
      "outputs": []
    }
  ]
}